{
 "cells": [
  {
   "cell_type": "code",
   "execution_count": 2,
   "metadata": {},
   "outputs": [],
   "source": [
    "import numpy as np\n",
    "import tensorflow as tf"
   ]
  },
  {
   "cell_type": "code",
   "execution_count": 2,
   "metadata": {},
   "outputs": [],
   "source": [
    "class FuzzySets(object):\n",
    "    \"\"\"\n",
    "    This class is written to define a fuzzy set for an input. Here, by fuzzy set\n",
    "    we refer to a set of membership functions for an input.\n",
    "    \n",
    "    \"\"\"\n",
    "    \n",
    "    def __init__(self):\n",
    "        \n",
    "        self.mfs  = {}\n",
    "        self.rng  = [-10, 10]\n",
    "    \n",
    "    def add_mf(self, mf_name, mf_type, mf_params):\n",
    "        \"\"\"\n",
    "        This function will add a membership function to the fuzzy sets. \n",
    "        \n",
    "        params:\n",
    "            mf_name: string, the name for membership function. You can \n",
    "                     use any names. Note that this name will be used when \n",
    "                     you want to define the rules or evaluate the membership\n",
    "                     function for a given input. \n",
    "            mf_type: string, the type of the membership function can be \"trimf\"\n",
    "                     or \"trapmf\" at this time. \n",
    "            mf_params: The parameters for the membership function. if you choose\n",
    "                       \"trimf\" you need to enter 3 and if you enter \"trapmf\" you\n",
    "                       should enter 4 values. \n",
    "        \n",
    "        \"\"\"\n",
    "        \n",
    "        for i in range(len(mf_params) - 1):\n",
    "            assert mf_params[i] <= mf_params[i + 1] , 'Parameter ' +\\\n",
    "            str(i) + \"should be less than or equal to parameter\" + str(i+1)\n",
    "            \n",
    "            if mf_params[i]==mf_params[i + 1]:\n",
    "                mf_params[i + 1] += 0.0000001\n",
    "\n",
    "        self.mfs[mf_name] = {'type':mf_type, 'params':mf_params} \n",
    "    \n",
    "    def eval_mf(self, mf_name, inp):\n",
    "        \"\"\"\n",
    "        given the name of membership function and input value, this function\n",
    "        evaluates the membership of that input to the membership function. \n",
    "        params:\n",
    "            mf_name: the name of the membership function. \n",
    "            inp: a scalar or a numpy array.\n",
    "            \n",
    "        \"\"\"\n",
    "        if type(inp) in [float, int]:\n",
    "            inp = np.array(inp)\n",
    "        elif type(inp) == tf.python.ops.resource_variable_ops.ResourceVariable:\n",
    "            inp = inp.numpy()\n",
    "        elif type(inp) == np.ndarray:\n",
    "            inp = inp\n",
    "            \n",
    "        if self.mfs[mf_name]['type'] == 'trimf':\n",
    "            output = self.trimf(self.mfs[mf_name]['params'], inp)\n",
    "        elif self.mfs[mf_name]['type'] == 'trapmf':\n",
    "            output = self.trimf(self.mfs[mf_name]['params'], inp)\n",
    "        \n",
    "        return output\n",
    "    \n",
    "        \n",
    "    def evaluate(self, inp):\n",
    "        \"\"\"\n",
    "        By taking an input, this function will caclulate the membership of the input\n",
    "        to all membership functions. \n",
    "        inp: scalar, numpy array or tensorflow variable. \n",
    "        \n",
    "        \"\"\"\n",
    "        if type(inp) in [float, int]:\n",
    "            inp = np.array(inp)\n",
    "        elif type(inp) == tf.python.ops.resource_variable_ops.ResourceVariable:\n",
    "            inp = inp.numpy()\n",
    "        elif type(inp) == np.ndarray:\n",
    "            inp = inp\n",
    "        \n",
    "        output = np.zeros(inp.shape)\n",
    "        \n",
    "        for mf in self.mfs:\n",
    "            output = np.maximum(output, self.eval_mf(mf, inp))\n",
    "        \n",
    "        return output\n",
    "        \n",
    "        \n",
    "        \n",
    "    def trimf(self, param, inp):\n",
    "        output = np.maximum(np.minimum((inp - param[0])\\\n",
    "                                       / (param[1] - param[0]),\\\n",
    "                                       (param[2] - inp)\\\n",
    "                                       / (param[2] - param[1]) ), 0)\n",
    "        return output\n",
    "    \n",
    "    def trapmf(self, param, inp):\n",
    "        output = np.maximum(np.minimum(np.minimum((inp - param[0])\\\n",
    "                                                 / (param[1]-param[0]), 1)\\\n",
    "                                      , (param[3]-inp)/(param[3]-param[2]), 0))\n",
    "        \n",
    "        return output \n",
    "    \n",
    "    \n",
    "    "
   ]
  },
  {
   "cell_type": "code",
   "execution_count": 9,
   "metadata": {},
   "outputs": [],
   "source": [
    "class FIS:\n",
    "    \n",
    "    def __init__(self, inputs = {},\n",
    "                 outputs = {},\n",
    "                 rules = {},\n",
    "                 defuzzification = 'com',\n",
    "                 AndMethod = 'min',\n",
    "                 OrMethod = 'max',\n",
    "                 resolution = 0.0001):\n",
    "        \"\"\"\n",
    "        params:\n",
    "            inputs: A dictionary which its keys are the names for the input sets\n",
    "                    and their values are FuzzySet objects. \n",
    "            outputs: A dictionary which its keys are the names for the input sets\n",
    "                    and their values are FuzzySet objects. \n",
    "            rules: A dictionary which its keys are the names for the rules\n",
    "                    and their values are a string. See the examples for more information. \n",
    "            defuzzification: The defuzzification method. At this time, only 'com' (center of mass) is\n",
    "                             available. \n",
    "            AndMethod: It can be 'min' or 'product'\n",
    "            OrMethod : It can be 'max' or 'sum'\n",
    "            resolution: The calculations are discrete, this parameters shows the distance between samples.\n",
    "        \n",
    "        \"\"\"\n",
    "        \n",
    "        self.inputs = inputs\n",
    "        self.outputs = outputs\n",
    "        self.rules = rules\n",
    "        self.defuzzification = defuzzification\n",
    "        self.AndMethod = AndMethod\n",
    "        self.OrMethod = OrMethod\n",
    "        self.resolution = resolution\n",
    "    \n",
    "    def add_rule(self, rule, rule_name =0):\n",
    "        \"\"\"\n",
    "        This function adds a rule to the FIS. \n",
    "        params:\n",
    "            rule: a string. See the examples for more information\n",
    "            rule_name: you can specify a name to the rule, if you dont, it will choose a dafualt method to \n",
    "                       name the rules. \n",
    "        \"\"\"\n",
    "        if rule_name ==0:\n",
    "            self.rules[len(self.rules)] = rule\n",
    "        else:\n",
    "            self.rules[rule_name] = rule\n",
    "            \n",
    "    def eval_rule(self, rule, inp):\n",
    "        \n",
    "        if len(self.inputs) == 2:\n",
    "            rule = rule.replace('is', '').replace('then', '').replace('if', '')\n",
    "            rule = rule.split()\n",
    "            mu_1 = self.inputs[rule[0]].eval_mf(rule[1], inp[rule[0]])\n",
    "            mu_2 = self.inputs[rule[3]].eval_mf(rule[4], inp[rule[3]])\n",
    "\n",
    "            if rule[2].lower() == 'and':\n",
    "\n",
    "                if self.AndMethod == 'min':\n",
    "                    mu = np.minimum(mu_1, mu_2)\n",
    "\n",
    "                elif self.AndMethod == 'product':\n",
    "                    mu = mu_1 * mu_2\n",
    "\n",
    "            elif rule[2].lower() == 'or':\n",
    "\n",
    "                if self.OrMethod == 'max':\n",
    "                    mu = np.maximum(mu_1, mu_2)\n",
    "\n",
    "                elif self.OrMethod == 'sum':\n",
    "                    mu = np.minimum(mu_1 + mu_2, 1)\n",
    "        \n",
    "            out_rng = self.outputs[rule[5]].rng\n",
    "            out_interval = np.arange(out_rng[0], out_rng[1], self.resolution)\n",
    "            output = self.outputs[rule[5]].eval_mf(rule[6], out_interval)\n",
    "            output = np.repeat(output.reshape(-1, 1), mu.shape[0], axis = 1)\n",
    "            output = np.minimum(output, mu)\n",
    "            out_name = rule[5]\n",
    "                    \n",
    "        elif len(self.inputs) == 1:\n",
    "            \n",
    "            rule = rule.replace('is', '').replace('then', '').replace('if', '')\n",
    "            rule = rule.split()\n",
    "            mu = self.inputs[rule[0]].eval_mf(rule[1], inp[rule[0]])            \n",
    "        \n",
    "            out_rng = self.outputs[rule[2]].rng\n",
    "            out_interval = np.arange(out_rng[0], out_rng[1], self.resolution)\n",
    "            output = self.outputs[rule[2]].eval_mf(rule[3], out_interval)\n",
    "            output = np.repeat(output.reshape(-1, 1), mu.shape[0], axis = 1)\n",
    "            output = np.minimum(output, mu)\n",
    "            out_name = rule[2]\n",
    "        \n",
    "        return output, out_name\n",
    "    \n",
    "    def evaluate(self, inp):\n",
    "        \n",
    "        flag = 0\n",
    "        \n",
    "        output = {out:0 for out in self.outputs}\n",
    "        \n",
    "        for rule in self.rules:\n",
    "            \n",
    "            if flag == 0:\n",
    "                temp_output, temp_name = self.eval_rule(self.rules[rule], inp)\n",
    "                output[temp_name] = temp_output\n",
    "                flag =1\n",
    "            else:\n",
    "                temp_output, temp_name = self.eval_rule(self.rules[rule], inp)\n",
    "                output[temp_name] = np.maximum(temp_output, output[temp_name])\n",
    "                \n",
    "        return output\n",
    "                \n",
    "    \n",
    "    def defuzzyfy(self, output):\n",
    "        \"\"\"\n",
    "        This function will defuzzyfy the outputs\n",
    "        \n",
    "        \"\"\"\n",
    "        \n",
    "        defuzzed = {}\n",
    "        \n",
    "        if self.defuzzification == 'com':\n",
    "            \n",
    "            for out in output:\n",
    "                rng = self.outputs[out].rng\n",
    "                x_interval = np.arange(rng[0], rng[1], self.resolution)\n",
    "                \n",
    "                y_temp = np.linspace(0, 1, 50).reshape(-1, 1)\n",
    "                y_temp = np.repeat(y_temp, x_interval.shape[0], axis = 1)\n",
    "                y_temp = np.int32(y_temp <= output[out].T)\n",
    "                x_com  = np.sum(y_temp * x_interval * 1/50.0 * self.resolution)\n",
    "                area = np.sum(np.array(output[out].tolist()[0:-1])*self.resolution)\n",
    "                defuzzed[out] = 0 if area==0 else x_com/area\n",
    "        \n",
    "        return defuzzed\n",
    "                \n",
    "    def run(self, inputs):\n",
    "        \"\"\"\n",
    "        Given an input, this function will calculate the output based on the sepcified rules. \n",
    "        \n",
    "        \"\"\"\n",
    "        for inp in inputs:\n",
    "            if type(inputs[inp]) != np.ndarray:\n",
    "                inputs[inp] = np.array([inputs[inp]])\n",
    "            \n",
    "        \n",
    "        out_1 = self.evaluate(inputs)\n",
    "        out_2 = self.defuzzyfy(out_1)\n",
    "        \n",
    "        return out_2\n",
    "        "
   ]
  },
  {
   "cell_type": "markdown",
   "metadata": {},
   "source": [
    " ## Examples"
   ]
  },
  {
   "cell_type": "markdown",
   "metadata": {},
   "source": [
    "### Example 1:"
   ]
  },
  {
   "cell_type": "markdown",
   "metadata": {},
   "source": [
    "Here we want to define a fuzzy system with 2 inputs and a single output. "
   ]
  },
  {
   "cell_type": "code",
   "execution_count": 247,
   "metadata": {},
   "outputs": [],
   "source": [
    "# first you should use the FuzzySets to define the first input:\n",
    "inp_set1 = FuzzySets()\n",
    "\n",
    "# then you can add the membership functions to this input set. \n",
    "\n",
    "\n",
    "# The first membership function name is \"NB\". This function's type is\n",
    "#\"trimf\". As you know, this type of membership function takes 3 parameters \n",
    "# which are the coordinates of the vertices of the triangle. \n",
    "inp_set1.add_mf('NB', 'trimf', [-2, -1, 0]) \n",
    "\n",
    "\n",
    "# The second membership function name is \"Z\". This function's type is\n",
    "#\"trimf\".\n",
    "inp_set1.add_mf('Z', 'trimf', [-1, 0, 1])\n",
    "# The third membership function name is \"Z\". This function's type is\n",
    "#\"trimf\".\n",
    "inp_set1.add_mf('PB', 'trimf', [0, 1, 2])\n",
    "\n",
    "\n",
    "# Defining th first input set is finished. Then we will add another inout to our system:\n",
    "\n",
    "inp_set2 = FuzzySets()\n",
    "\n",
    "inp_set2.add_mf('NB', 'trimf', [-1, -0.5, 0])\n",
    "inp_set2.add_mf('Z', 'trimf', [-0.5, 0, 0.5])\n",
    "inp_set2.add_mf('PB', 'trimf', [0, 0.5, 1])\n",
    "\n",
    "\n",
    "# After defining the inputs, we will define the outputs. Note that for output sets, you need to determine the \n",
    "# range of the output.\n",
    "\n",
    "out_set1 = FuzzySets()\n",
    "out_set1.rng = [0, 1] # By this line, we will tell our system that the range of the output for this set is between\n",
    "                      # 0 and 1\n",
    "\n",
    "# defining the outptut membership function is the same as before. \n",
    "\n",
    "out_set1.add_mf('Z', 'trimf', [0, 0.3, 0.6])\n",
    "out_set1.add_mf('PS', 'trimf', [0.3, 0.6, 0.9])\n",
    "out_set1.add_mf('PB', 'trimf', [0.6, 0.8, 1])\n",
    "\n",
    "\n",
    "# After defining the input sets and the output sets, we should define the Fuzzy System:\n",
    "fis = FIS(inputs={'inp1':inp_set1, 'inp2':inp_set2}, outputs = {'out1':out_set1})\n",
    "\n",
    "\n",
    "# After defining the Fuzzy system, we should define the rules:\n",
    "\n",
    "fis.add_rule('if inp1 is NB and inp2 is NB then out1 is Z')\n",
    "fis.add_rule('if inp1 is Z and inp2 is Z then out1 is PS')\n",
    "fis.add_rule('if inp1 is PB and inp2 is PB then out1 is PB')"
   ]
  },
  {
   "cell_type": "code",
   "execution_count": 248,
   "metadata": {},
   "outputs": [
    {
     "name": "stdout",
     "output_type": "stream",
     "text": [
      "{'out1': 0.8180032045008013}\n"
     ]
    }
   ],
   "source": [
    "# And here is how we can estimate the output by feeding the inputs to the FIS:\n",
    "inputs = {'inp1': 1, 'inp2':0.5}\n",
    "y = fis.run(inputs)\n",
    "print(y)"
   ]
  },
  {
   "cell_type": "code",
   "execution_count": 226,
   "metadata": {},
   "outputs": [
    {
     "data": {
      "text/plain": [
       "{'NB': {'type': 'trimf', 'params': [-2, -1, 0]},\n",
       " 'Z': {'type': 'trimf', 'params': [-1, 0, 1]},\n",
       " 'PB': {'type': 'trimf', 'params': [0, 1, 2]}}"
      ]
     },
     "execution_count": 226,
     "metadata": {},
     "output_type": "execute_result"
    }
   ],
   "source": [
    "# We can see the specifications for the first input set:\n",
    "inp_set1.mfs"
   ]
  },
  {
   "cell_type": "code",
   "execution_count": 227,
   "metadata": {},
   "outputs": [
    {
     "data": {
      "text/plain": [
       "{'NB': {'type': 'trimf', 'params': [-1, -0.5, 0]},\n",
       " 'Z': {'type': 'trimf', 'params': [-0.5, 0, 0.5]},\n",
       " 'PB': {'type': 'trimf', 'params': [0, 0.5, 1]}}"
      ]
     },
     "execution_count": 227,
     "metadata": {},
     "output_type": "execute_result"
    }
   ],
   "source": [
    "# for the second input set:\n",
    "inp_set2.mfs"
   ]
  },
  {
   "cell_type": "code",
   "execution_count": 228,
   "metadata": {},
   "outputs": [
    {
     "data": {
      "text/plain": [
       "{'Z': {'type': 'trimf', 'params': [0, 0.3, 0.6]},\n",
       " 'PS': {'type': 'trimf', 'params': [0.3, 0.6, 0.9]},\n",
       " 'PB': {'type': 'trimf', 'params': [0.6, 0.8, 1]}}"
      ]
     },
     "execution_count": 228,
     "metadata": {},
     "output_type": "execute_result"
    }
   ],
   "source": [
    "# and for the output sets:\n",
    "out_set1.mfs"
   ]
  },
  {
   "cell_type": "code",
   "execution_count": 197,
   "metadata": {},
   "outputs": [
    {
     "data": {
      "text/plain": [
       "{0: 'inp1 is NB and inp2 is NB then out1 is Z',\n",
       " 1: 'inp1 is Z and inp2 is Z then out1 is PS',\n",
       " 2: 'inp1 is PB and inp2 is PB then out1 is PB'}"
      ]
     },
     "execution_count": 197,
     "metadata": {},
     "output_type": "execute_result"
    }
   ],
   "source": [
    "# We can also see the rules:\n",
    "fis.rules"
   ]
  },
  {
   "cell_type": "markdown",
   "metadata": {},
   "source": [
    "### example 2"
   ]
  },
  {
   "cell_type": "markdown",
   "metadata": {},
   "source": [
    "Here we want to define a fuzzy system with only one input. As we will see, the only difference is in \n",
    "defining the rules"
   ]
  },
  {
   "cell_type": "code",
   "execution_count": 10,
   "metadata": {},
   "outputs": [],
   "source": [
    "# first you should use the FuzzySets to define the first input:\n",
    "inp_set1 = FuzzySets()\n",
    "\n",
    "inp_set1.add_mf('NB', 'trimf', [-2, -1, 0]) \n",
    "inp_set1.add_mf('Z', 'trimf', [-1, 0, 1])\n",
    "inp_set1.add_mf('PB', 'trimf', [0, 1, 2])\n",
    "\n",
    "\n",
    "\n",
    "\n",
    "out_set1 = FuzzySets()\n",
    "out_set1.rng = [0, 1] \n",
    "\n",
    "out_set1.add_mf('Z', 'trimf', [0, 0.3, 0.6])\n",
    "out_set1.add_mf('PS', 'trimf', [0.3, 0.6, 0.9])\n",
    "out_set1.add_mf('PB', 'trimf', [0.6, 0.8, 1])\n",
    "\n",
    "\n",
    "fis = FIS(inputs={'inp1':inp_set1}, outputs = {'out1':out_set1})\n",
    "\n",
    "\n",
    "# After defining the Fuzzy system, we should define the rules:\n",
    "\n",
    "fis.add_rule('if inp1 is NB then out1 is Z')\n",
    "fis.add_rule('if inp1 is Z then out1 is PS')\n",
    "fis.add_rule('if inp1 is PB out1 is PB')"
   ]
  },
  {
   "cell_type": "code",
   "execution_count": 13,
   "metadata": {},
   "outputs": [
    {
     "name": "stdout",
     "output_type": "stream",
     "text": [
      "{'out1': 0.8180032045008013}\n"
     ]
    }
   ],
   "source": [
    "inputs = {'inp1': 1}\n",
    "y = fis.run(inputs)\n",
    "print(y)"
   ]
  }
 ],
 "metadata": {
  "kernelspec": {
   "display_name": "Python 3",
   "language": "python",
   "name": "python3"
  },
  "language_info": {
   "codemirror_mode": {
    "name": "ipython",
    "version": 3
   },
   "file_extension": ".py",
   "mimetype": "text/x-python",
   "name": "python",
   "nbconvert_exporter": "python",
   "pygments_lexer": "ipython3",
   "version": "3.8.6"
  }
 },
 "nbformat": 4,
 "nbformat_minor": 4
}
